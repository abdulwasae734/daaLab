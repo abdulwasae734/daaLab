{
 "cells": [
  {
   "cell_type": "code",
   "execution_count": 2,
   "metadata": {},
   "outputs": [],
   "source": [
    "import pandas as pd\n",
    "import numpy as np\n",
    "from sklearn.model_selection import train_test_split\n",
    "from sklearn.svm import SVC\n",
    "from sklearn.metrics import accuracy_score, precision_score, recall_score, confusion_matrix\n",
    "import seaborn as sns\n",
    "import matplotlib.pyplot as plt\n"
   ]
  },
  {
   "cell_type": "markdown",
   "metadata": {},
   "source": [
    "Loading and Preprocessing"
   ]
  },
  {
   "cell_type": "code",
   "execution_count": 3,
   "metadata": {},
   "outputs": [
    {
     "name": "stdout",
     "output_type": "stream",
     "text": [
      "   PassengerId  Survived  Pclass  \\\n",
      "0            1         0       3   \n",
      "1            2         1       1   \n",
      "2            3         1       3   \n",
      "3            4         1       1   \n",
      "4            5         0       3   \n",
      "\n",
      "                                                Name     Sex   Age  SibSp  \\\n",
      "0                            Braund, Mr. Owen Harris    male  22.0      1   \n",
      "1  Cumings, Mrs. John Bradley (Florence Briggs Th...  female  38.0      1   \n",
      "2                             Heikkinen, Miss. Laina  female  26.0      0   \n",
      "3       Futrelle, Mrs. Jacques Heath (Lily May Peel)  female  35.0      1   \n",
      "4                           Allen, Mr. William Henry    male  35.0      0   \n",
      "\n",
      "   Parch            Ticket     Fare Cabin Embarked  \n",
      "0      0         A/5 21171   7.2500   NaN        S  \n",
      "1      0          PC 17599  71.2833   C85        C  \n",
      "2      0  STON/O2. 3101282   7.9250   NaN        S  \n",
      "3      0            113803  53.1000  C123        S  \n",
      "4      0            373450   8.0500   NaN        S  \n"
     ]
    },
    {
     "name": "stderr",
     "output_type": "stream",
     "text": [
      "C:\\Users\\ADmIN\\AppData\\Local\\Temp\\ipykernel_9688\\472895436.py:4: FutureWarning: A value is trying to be set on a copy of a DataFrame or Series through chained assignment using an inplace method.\n",
      "The behavior will change in pandas 3.0. This inplace method will never work because the intermediate object on which we are setting values always behaves as a copy.\n",
      "\n",
      "For example, when doing 'df[col].method(value, inplace=True)', try using 'df.method({col: value}, inplace=True)' or df[col] = df[col].method(value) instead, to perform the operation inplace on the original object.\n",
      "\n",
      "\n",
      "  df['Age'].fillna(df['Age'].median(), inplace=True)\n"
     ]
    }
   ],
   "source": [
    "df = pd.read_csv('titanic.csv')\n",
    "print(df.head())\n",
    "df['Sex'] = df['Sex'].map({'male': 0, 'female': 1})\n",
    "df['Age'].fillna(df['Age'].median(), inplace=True)\n",
    "\n",
    "X = df[['Pclass', 'Age', 'Sex']]\n",
    "y = df['Survived']\n",
    "\n",
    "X_train, X_test, y_train, y_test = train_test_split(X, y, test_size=0.2, random_state=42)\n"
   ]
  },
  {
   "cell_type": "markdown",
   "metadata": {},
   "source": [
    "Training the model"
   ]
  },
  {
   "cell_type": "code",
   "execution_count": 4,
   "metadata": {},
   "outputs": [
    {
     "name": "stdout",
     "output_type": "stream",
     "text": [
      "SVM - Accuracy: 0.78\n",
      "SVM - Precision: 0.75\n",
      "SVM - Recall: 0.70\n"
     ]
    },
    {
     "data": {
      "text/plain": [
       "\"#k means --\\ndf = pd.read_csv('titanic.csv')\\ndf['Sex'] = df['Sex'].map({'male': 0, 'female': 1})\\ndf['Age'].fillna(df['Age'].median(), inplace=True)\\n# Select relevant features for clustering\\nX = df[['Pclass', 'Age', 'Sex']]\\nfrom sklearn.preprocessing import StandardScaler\\nscaler = StandardScaler()\\nX_scaled = scaler.fit_transform(X)\\nkmeans = KMeans(n_clusters=3, random_state=42)\\nkmeans.fit(X_scaled)\\ndf['Cluster'] = kmeans.labels_\\nplt.figure(figsize=(10, 6))\\nsns.scatterplot(x=X['Age'], y=X['Pclass'], \\n        hue=df['Cluster'], palette='viridis', style=df['Sex'])\\nplt.title('k-Means Clustering Results')\\nplt.xlabel('Age')\\nplt.ylabel('Pclass')\\nplt.show()\""
      ]
     },
     "execution_count": 4,
     "metadata": {},
     "output_type": "execute_result"
    }
   ],
   "source": [
    "# Initialize and train the SVM classifier\n",
    "svm_model = SVC(kernel='linear', C=1.0, random_state=42)\n",
    "svm_model.fit(X_train, y_train)\n",
    "y_pred_svm = svm_model.predict(X_test)\n",
    "#METRICS\n",
    "accuracy_svm = accuracy_score(y_test, y_pred_svm)\n",
    "precision_svm = precision_score(y_test, y_pred_svm)\n",
    "recall_svm = recall_score(y_test, y_pred_svm)\n",
    "print(f\"SVM - Accuracy: {accuracy_svm:.2f}\")\n",
    "print(f\"SVM - Precision: {precision_svm:.2f}\")\n",
    "print(f\"SVM - Recall: {recall_svm:.2f}\")\n",
    "'''#k means --\n",
    "df = pd.read_csv('titanic.csv')\n",
    "df['Sex'] = df['Sex'].map({'male': 0, 'female': 1})\n",
    "df['Age'].fillna(df['Age'].median(), inplace=True)\n",
    "# Select relevant features for clustering\n",
    "X = df[['Pclass', 'Age', 'Sex']]\n",
    "from sklearn.preprocessing import StandardScaler\n",
    "scaler = StandardScaler()\n",
    "X_scaled = scaler.fit_transform(X)\n",
    "kmeans = KMeans(n_clusters=3, random_state=42)\n",
    "kmeans.fit(X_scaled)\n",
    "df['Cluster'] = kmeans.labels_\n",
    "plt.figure(figsize=(10, 6))\n",
    "sns.scatterplot(x=X['Age'], y=X['Pclass'], \n",
    "        hue=df['Cluster'], palette='viridis', style=df['Sex'])\n",
    "plt.title('k-Means Clustering Results')\n",
    "plt.xlabel('Age')\n",
    "plt.ylabel('Pclass')\n",
    "plt.show()'''"
   ]
  },
  {
   "cell_type": "code",
   "execution_count": 5,
   "metadata": {},
   "outputs": [],
   "source": [
    "# Make predictions\n",
    "y_pred_svm = svm_model.predict(X_test)\n"
   ]
  },
  {
   "cell_type": "code",
   "execution_count": 6,
   "metadata": {},
   "outputs": [
    {
     "name": "stdout",
     "output_type": "stream",
     "text": [
      "SVM - Accuracy: 0.78\n",
      "SVM - Precision: 0.75\n",
      "SVM - Recall: 0.70\n"
     ]
    }
   ],
   "source": [
    "# Calculate metrics\n",
    "accuracy_svm = accuracy_score(y_test, y_pred_svm)\n",
    "precision_svm = precision_score(y_test, y_pred_svm)\n",
    "recall_svm = recall_score(y_test, y_pred_svm)\n",
    "\n",
    "print(f\"SVM - Accuracy: {accuracy_svm:.2f}\")\n",
    "print(f\"SVM - Precision: {precision_svm:.2f}\")\n",
    "print(f\"SVM - Recall: {recall_svm:.2f}\")\n"
   ]
  },
  {
   "cell_type": "code",
   "execution_count": null,
   "metadata": {},
   "outputs": [],
   "source": []
  }
 ],
 "metadata": {
  "kernelspec": {
   "display_name": "Python 3",
   "language": "python",
   "name": "python3"
  },
  "language_info": {
   "codemirror_mode": {
    "name": "ipython",
    "version": 3
   },
   "file_extension": ".py",
   "mimetype": "text/x-python",
   "name": "python",
   "nbconvert_exporter": "python",
   "pygments_lexer": "ipython3",
   "version": "3.12.3"
  }
 },
 "nbformat": 4,
 "nbformat_minor": 2
}
