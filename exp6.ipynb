{
 "cells": [
  {
   "cell_type": "code",
   "execution_count": 9,
   "metadata": {},
   "outputs": [],
   "source": [
    "# Import necessary libraries\n",
    "import numpy as np\n",
    "import pandas as pd\n",
    "from sklearn.model_selection import train_test_split\n",
    "from sklearn.linear_model import LinearRegression, Ridge, Lasso\n",
    "from sklearn.metrics import mean_squared_error, r2_score\n",
    "from sklearn.preprocessing import PolynomialFeatures\n"
   ]
  },
  {
   "cell_type": "code",
   "execution_count": 10,
   "metadata": {},
   "outputs": [],
   "source": [
    "# Load dataset (replace with your own if necessary)\n",
    "# Example: Using synthetic data for illustration\n",
    "np.random.seed(0)\n",
    "X = np.random.rand(100, 1) * 10\n",
    "y = 2.5 * X.squeeze() + np.random.randn(100) * 2\n",
    "\n",
    "# Split into training and testing sets\n",
    "X_train, X_test, y_train, y_test = train_test_split(X, y, test_size=0.2, random_state=42)\n"
   ]
  },
  {
   "cell_type": "markdown",
   "metadata": {},
   "source": [
    "Linear Regression with gradient descent"
   ]
  },
  {
   "cell_type": "code",
   "execution_count": 16,
   "metadata": {},
   "outputs": [
    {
     "name": "stdout",
     "output_type": "stream",
     "text": [
      "Final parameters: theta = 0.019017258935391607, bias = 11.729794587452252\n"
     ]
    }
   ],
   "source": [
    "# Define parameters\n",
    "learning_rate = 0.0001\n",
    "iterations = 1000\n",
    "m = X_train.shape[0]\n",
    "\n",
    "# Initialize weights and bias\n",
    "theta = np.random.randn(1)\n",
    "bias = np.random.randn(1)\n",
    "\n",
    "# Gradient Descent Loop\n",
    "for i in range(iterations):\n",
    "    # Predictions based on current theta and bias\n",
    "    y_pred = theta * X_train + bias\n",
    "    # Compute the gradients\n",
    "    d_theta = -(2/m) * np.sum((y_train - y_pred) * X_train)\n",
    "    d_bias = -(2/m) * np.sum(y_train - y_pred)\n",
    "    # Update parameters\n",
    "    theta -= learning_rate * d_theta\n",
    "    bias -= learning_rate * d_bias\n",
    "\n",
    "# Display final parameters\n",
    "print(f\"Final parameters: theta = {theta[0]}, bias = {bias[0]}\")\n"
   ]
  },
  {
   "cell_type": "markdown",
   "metadata": {},
   "source": [
    "Model Evaluation"
   ]
  },
  {
   "cell_type": "code",
   "execution_count": 17,
   "metadata": {},
   "outputs": [
    {
     "name": "stdout",
     "output_type": "stream",
     "text": [
      "Gradient Descent - MSE: 38.1368485111762, R^2 Score: -0.07542744863841122\n"
     ]
    }
   ],
   "source": [
    "# Make predictions on the test set\n",
    "y_pred_test = theta * X_test + bias\n",
    "\n",
    "# Calculate metrics\n",
    "mse = mean_squared_error(y_test, y_pred_test)\n",
    "r2 = r2_score(y_test, y_pred_test)\n",
    "\n",
    "print(f\"Gradient Descent - MSE: {mse}, R^2 Score: {r2}\")\n"
   ]
  },
  {
   "cell_type": "markdown",
   "metadata": {},
   "source": [
    "LR with least squares"
   ]
  },
  {
   "cell_type": "code",
   "execution_count": 18,
   "metadata": {},
   "outputs": [
    {
     "name": "stdout",
     "output_type": "stream",
     "text": [
      "OLS - MSE: 3.671012987885716, R^2 Score: 0.896480483165161\n"
     ]
    }
   ],
   "source": [
    "# Import the linear regression model from Scikit-Learn\n",
    "from sklearn.linear_model import LinearRegression\n",
    "\n",
    "# Create and fit the model\n",
    "ols_model = LinearRegression()\n",
    "ols_model.fit(X_train, y_train)\n",
    "\n",
    "# Make predictions on the test set\n",
    "y_pred_ols = ols_model.predict(X_test)\n",
    "\n",
    "# Calculate metrics\n",
    "mse_ols = mean_squared_error(y_test, y_pred_ols)\n",
    "r2_ols = r2_score(y_test, y_pred_ols)\n",
    "\n",
    "print(f\"OLS - MSE: {mse_ols}, R^2 Score: {r2_ols}\")\n"
   ]
  },
  {
   "cell_type": "markdown",
   "metadata": {},
   "source": [
    "Polynomial Regression"
   ]
  },
  {
   "cell_type": "code",
   "execution_count": 19,
   "metadata": {},
   "outputs": [
    {
     "name": "stdout",
     "output_type": "stream",
     "text": [
      "Polynomial Regression (Degree 2) - MSE: 3.646463944509997, R^2 Score: 0.8971727457960474\n"
     ]
    }
   ],
   "source": [
    "# Import PolynomialFeatures\n",
    "from sklearn.preprocessing import PolynomialFeatures\n",
    "\n",
    "# Define the degree of the polynomial (e.g., 2 for quadratic)\n",
    "degree = 2\n",
    "poly = PolynomialFeatures(degree)\n",
    "X_poly_train = poly.fit_transform(X_train)\n",
    "X_poly_test = poly.transform(X_test)\n",
    "\n",
    "# Fit a linear regression model on the transformed features\n",
    "poly_model = LinearRegression()\n",
    "poly_model.fit(X_poly_train, y_train)\n",
    "\n",
    "# Make predictions on the test set\n",
    "y_pred_poly = poly_model.predict(X_poly_test)\n",
    "\n",
    "# Calculate metrics\n",
    "mse_poly = mean_squared_error(y_test, y_pred_poly)\n",
    "r2_poly = r2_score(y_test, y_pred_poly)\n",
    "\n",
    "print(f\"Polynomial Regression (Degree {degree}) - MSE: {mse_poly}, R^2 Score: {r2_poly}\")\n"
   ]
  },
  {
   "cell_type": "markdown",
   "metadata": {},
   "source": [
    "LASSO Regression"
   ]
  },
  {
   "cell_type": "code",
   "execution_count": 23,
   "metadata": {},
   "outputs": [
    {
     "name": "stdout",
     "output_type": "stream",
     "text": [
      "LASSO Regression - MSE: 3.6634928753091396, R^2 Score: 0.8966925440930411\n"
     ]
    }
   ],
   "source": [
    "# Import Lasso regression model from Scikit-Learn\n",
    "from sklearn.linear_model import Lasso\n",
    "\n",
    "# Create and fit the Lasso model\n",
    "alpha = 0.1  # Regularization strength; you can adjust this value\n",
    "lasso_model = Lasso(alpha=alpha)\n",
    "lasso_model.fit(X_train, y_train)\n",
    "\n",
    "# Make predictions on the test set\n",
    "y_pred_lasso = lasso_model.predict(X_test)\n",
    "\n",
    "# Calculate metrics\n",
    "mse_lasso = mean_squared_error(y_test, y_pred_lasso)\n",
    "r2_lasso = r2_score(y_test, y_pred_lasso)\n",
    "\n",
    "print(f\"LASSO Regression - MSE: {mse_lasso}, R^2 Score: {r2_lasso}\")\n"
   ]
  },
  {
   "cell_type": "markdown",
   "metadata": {},
   "source": [
    "Ridge"
   ]
  },
  {
   "cell_type": "code",
   "execution_count": 22,
   "metadata": {},
   "outputs": [
    {
     "name": "stdout",
     "output_type": "stream",
     "text": [
      "RIDGE Regression - MSE: 3.6685117766157402, R^2 Score: 0.8965510152452775\n"
     ]
    }
   ],
   "source": [
    "# Import Ridge regression model from Scikit-Learn\n",
    "from sklearn.linear_model import Ridge\n",
    "\n",
    "# Create and fit the Ridge model\n",
    "alpha = 1.0  # Regularization strength; you can adjust this value\n",
    "ridge_model = Ridge(alpha=alpha)\n",
    "ridge_model.fit(X_train, y_train)\n",
    "\n",
    "# Make predictions on the test set\n",
    "y_pred_ridge = ridge_model.predict(X_test)\n",
    "\n",
    "# Calculate metrics\n",
    "mse_ridge = mean_squared_error(y_test, y_pred_ridge)\n",
    "r2_ridge = r2_score(y_test, y_pred_ridge)\n",
    "\n",
    "print(f\"RIDGE Regression - MSE: {mse_ridge}, R^2 Score: {r2_ridge}\")\n"
   ]
  },
  {
   "cell_type": "markdown",
   "metadata": {},
   "source": [
    "comparison\n"
   ]
  },
  {
   "cell_type": "code",
   "execution_count": 24,
   "metadata": {},
   "outputs": [
    {
     "name": "stdout",
     "output_type": "stream",
     "text": [
      "              Model        MSE  R^2 Score\n",
      "0  Gradient Descent  38.136849  -0.075427\n",
      "1               OLS   3.671013   0.896480\n",
      "2        Polynomial   3.646464   0.897173\n",
      "3             LASSO   3.663493   0.896693\n",
      "4             RIDGE   3.668512   0.896551\n"
     ]
    }
   ],
   "source": [
    "# Compile metrics into a DataFrame for comparison\n",
    "comparison_table = pd.DataFrame({\n",
    "    'Model': ['Gradient Descent', 'OLS', 'Polynomial', 'LASSO', 'RIDGE'],\n",
    "    'MSE': [mse, mse_ols, mse_poly, mse_lasso, mse_ridge],\n",
    "    'R^2 Score': [r2, r2_ols, r2_poly, r2_lasso, r2_ridge]\n",
    "})\n",
    "\n",
    "print(comparison_table)\n"
   ]
  },
  {
   "cell_type": "code",
   "execution_count": null,
   "metadata": {},
   "outputs": [],
   "source": []
  }
 ],
 "metadata": {
  "kernelspec": {
   "display_name": "Python 3",
   "language": "python",
   "name": "python3"
  },
  "language_info": {
   "codemirror_mode": {
    "name": "ipython",
    "version": 3
   },
   "file_extension": ".py",
   "mimetype": "text/x-python",
   "name": "python",
   "nbconvert_exporter": "python",
   "pygments_lexer": "ipython3",
   "version": "3.12.3"
  }
 },
 "nbformat": 4,
 "nbformat_minor": 2
}
